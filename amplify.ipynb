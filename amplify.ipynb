{
  "nbformat": 4,
  "nbformat_minor": 0,
  "metadata": {
    "colab": {
      "name": "amplify.ipynb",
      "provenance": [],
      "collapsed_sections": [],
      "authorship_tag": "ABX9TyO1AsNQQF59f65/JNdj4rjx",
      "include_colab_link": true
    },
    "kernelspec": {
      "name": "python3",
      "display_name": "Python 3"
    }
  },
  "cells": [
    {
      "cell_type": "markdown",
      "metadata": {
        "id": "view-in-github",
        "colab_type": "text"
      },
      "source": [
        "<a href=\"https://colab.research.google.com/github/OTARYU/amplify_hackathon_sample/blob/main/amplify.ipynb\" target=\"_parent\"><img src=\"https://colab.research.google.com/assets/colab-badge.svg\" alt=\"Open In Colab\"/></a>"
      ]
    },
    {
      "cell_type": "code",
      "metadata": {
        "colab": {
          "base_uri": "https://localhost:8080/"
        },
        "id": "dveX0U-1JiEo",
        "outputId": "2aa5b7b2-dc50-4650-a7a9-891bfafbbc9a"
      },
      "source": [
        "! pip install amplify\r\n",
        "from amplify import sum_poly, pair_sum, product\r\n",
        "from amplify.constraint import equal_to,less_equal,greater_equal,penalty\r\n",
        "from amplify import gen_symbols, BinaryPoly\r\n",
        "from amplify import Solver\r\n",
        "from amplify.client import FixstarsClient\r\n",
        "from amplify import decode_solution\r\n",
        "import numpy as np \r\n",
        "CLIENT_TOKEN = \"0iHDTv6xm4VdmOPiCFa1YA8OCwHdMNfP\"\r\n",
        "TIME_OUT = 1000"
      ],
      "execution_count": 1,
      "outputs": [
        {
          "output_type": "stream",
          "text": [
            "Requirement already satisfied: amplify in /usr/local/lib/python3.7/dist-packages (0.4.1)\n"
          ],
          "name": "stdout"
        }
      ]
    },
    {
      "cell_type": "code",
      "metadata": {
        "id": "VYtDyk1jLMQH"
      },
      "source": [
        "# 生産オーダー　辞書のリスト\r\n",
        "# {\r\n",
        "#     \"order_num\" : 0,オーダーの番号（オーダーの色分け）:int\r\n",
        "#     \"name\" : \"order_1\",　オーダーの名前:str\r\n",
        "#     \"pre_node_num\" : [0]　ひとつ前にやらなくてはいけないオーダー（中間生産物を作るためのオーダー）:intのlist\r\n",
        "#     \"machine\" : 0,　作業に使う機械:int\r\n",
        "#     \"time\" : 1　　　作業時間:int\r\n",
        "# },\r\n",
        "orders = [\r\n",
        "    {\r\n",
        "      \"order_num\" : 0,\r\n",
        "      \"name\" : \"order_1\",\r\n",
        "      \"pre_node_num\" : [],\r\n",
        "      \"machine\" : 0,\r\n",
        "      \"time\" : 4\r\n",
        "    },\r\n",
        "    {\r\n",
        "      \"order_num\" : 1,\r\n",
        "      \"name\" : \"order_2\",\r\n",
        "      \"pre_node_num\" : [],\r\n",
        "      \"machine\" : 0,\r\n",
        "      \"time\" : 1\r\n",
        "    },\r\n",
        "    {\r\n",
        "      \"order_num\" : 2,\r\n",
        "      \"name\" : \"order_3\",\r\n",
        "      \"pre_node_num\" : [],\r\n",
        "      \"machine\" : 0,\r\n",
        "      \"time\" : 2\r\n",
        "    },\r\n",
        "    {\r\n",
        "      \"order_num\" : 3,\r\n",
        "      \"name\" : \"order_4\",\r\n",
        "      \"pre_node_num\" : [],\r\n",
        "      \"machine\" : 2,\r\n",
        "      \"time\" : 10\r\n",
        "    },\r\n",
        "    {\r\n",
        "      \"order_num\" : 0,\r\n",
        "      \"name\" : \"order_5\",\r\n",
        "      \"pre_node_num\" : [0],\r\n",
        "      \"machine\" : 3,\r\n",
        "      \"time\" : 5\r\n",
        "  },\r\n",
        "  {\r\n",
        "      \"order_num\" : 0,\r\n",
        "      \"name\" : \"order_6\",\r\n",
        "      \"pre_node_num\" : [0],\r\n",
        "      \"machine\" : 2,\r\n",
        "      \"time\" : 5\r\n",
        "  },\r\n",
        "    {\r\n",
        "      \"order_num\" : 3,\r\n",
        "      \"name\" : \"order_7\",\r\n",
        "      \"pre_node_num\" : [3,5],\r\n",
        "      \"machine\" : 1,\r\n",
        "      \"time\" : 5\r\n",
        "  },\r\n",
        "\r\n",
        "]\r\n"
      ],
      "execution_count": 127,
      "outputs": []
    },
    {
      "cell_type": "code",
      "metadata": {
        "colab": {
          "base_uri": "https://localhost:8080/"
        },
        "id": "iOE2YGHJqznL",
        "outputId": "21d16d3c-e6ef-48c1-ef13-12077ab05768"
      },
      "source": [
        "# オーダーの数\r\n",
        "N_o = len(orders)\r\n",
        "# 機械の数\r\n",
        "N_m = 0\r\n",
        "# 総生産時間\r\n",
        "N_t = 0\r\n",
        "N_order_num = 0\r\n",
        "for order in range(N_o):\r\n",
        "  N_t += orders[order][\"time\"]\r\n",
        "  N_m = max(N_m,orders[order][\"machine\"]+1)\r\n",
        "  N_order_num = max(N_order_num,orders[order][\"order_num\"]+1)\r\n",
        "N_o, N_t"
      ],
      "execution_count": 115,
      "outputs": [
        {
          "output_type": "execute_result",
          "data": {
            "text/plain": [
              "(7, 32)"
            ]
          },
          "metadata": {
            "tags": []
          },
          "execution_count": 115
        }
      ]
    },
    {
      "cell_type": "code",
      "metadata": {
        "id": "96zSI3O1LY3W"
      },
      "source": [
        "# 決定変数を (No x Nt) の配列の形式で定義（オーダーと時間の積）\r\n",
        "q = gen_symbols(BinaryPoly, N_o, N_t)"
      ],
      "execution_count": 116,
      "outputs": []
    },
    {
      "cell_type": "code",
      "metadata": {
        "colab": {
          "base_uri": "https://localhost:8080/"
        },
        "id": "yoSrb4YN8vIU",
        "outputId": "82ab110a-c715-49fb-bdd8-3048b4f00bd3"
      },
      "source": [
        "# for o in range(N_o):\r\n",
        "#   for o_2 in orders[o][\"pre_node_num\"]:\r\n",
        "#     print(orders[o_2][\"time\"])\r\n",
        "#     for t in range(N_t-orders[o_2][\"time\"]):\r\n",
        "#       print(sum([equal_to(q[o_2][t]*sum_poly(t+orders[o_2][\"time\"], lambda dt: q[o][dt]),0)]))"
      ],
      "execution_count": 87,
      "outputs": [
        {
          "output_type": "stream",
          "text": [
            "4\n",
            "(q_0 q_14 + q_0 q_15 + q_0 q_16 + q_0 q_17 == 0.000000, 1)\n",
            "(q_1 q_14 + q_1 q_15 + q_1 q_16 + q_1 q_17 + q_1 q_18 == 0.000000, 1)\n",
            "(q_2 q_14 + q_2 q_15 + q_2 q_16 + q_2 q_17 + q_2 q_18 + q_2 q_19 == 0.000000, 1)\n",
            "(q_3 q_14 + q_3 q_15 + q_3 q_16 + q_3 q_17 + q_3 q_18 + q_3 q_19 + q_3 q_20 == 0.000000, 1)\n",
            "(q_4 q_14 + q_4 q_15 + q_4 q_16 + q_4 q_17 + q_4 q_18 + q_4 q_19 + q_4 q_20 + q_4 q_21 == 0.000000, 1)\n",
            "(q_5 q_14 + q_5 q_15 + q_5 q_16 + q_5 q_17 + q_5 q_18 + q_5 q_19 + q_5 q_20 + q_5 q_21 + q_5 q_22 == 0.000000, 1)\n",
            "(q_6 q_14 + q_6 q_15 + q_6 q_16 + q_6 q_17 + q_6 q_18 + q_6 q_19 + q_6 q_20 + q_6 q_21 + q_6 q_22 + q_6 q_23 == 0.000000, 1)\n",
            "(q_7 q_14 + q_7 q_15 + q_7 q_16 + q_7 q_17 + q_7 q_18 + q_7 q_19 + q_7 q_20 + q_7 q_21 + q_7 q_22 + q_7 q_23 + q_7 q_24 == 0.000000, 1)\n",
            "(q_8 q_14 + q_8 q_15 + q_8 q_16 + q_8 q_17 + q_8 q_18 + q_8 q_19 + q_8 q_20 + q_8 q_21 + q_8 q_22 + q_8 q_23 + q_8 q_24 + q_8 q_25 == 0.000000, 1)\n",
            "(q_9 q_14 + q_9 q_15 + q_9 q_16 + q_9 q_17 + q_9 q_18 + q_9 q_19 + q_9 q_20 + q_9 q_21 + q_9 q_22 + q_9 q_23 + q_9 q_24 + q_9 q_25 + q_9 q_26 == 0.000000, 1)\n"
          ],
          "name": "stdout"
        }
      ]
    },
    {
      "cell_type": "code",
      "metadata": {
        "id": "aI3rAwzeLY06"
      },
      "source": [
        "#　すべてのオーダーにマシンを割り当てる制約\r\n",
        "constraintses = sum([equal_to(sum_poly(N_t, lambda t:q[o][t]), 1)for o in range(N_o)])\r\n",
        "# 同じマシンを同じ時間に使わないように制約　（オーダーiの開始点+オーダーiの時間内に同じ機械を使うオーダーが占有しないようにする）\r\n",
        "for o in range(N_o):\r\n",
        "  for o_2 in range(N_o):\r\n",
        "      if o != o_2 and orders[o][\"machine\"] == orders[o_2][\"machine\"]:\r\n",
        "        d_1 = orders[o][\"time\"]\r\n",
        "        constraintses += sum([less_equal(q[o][t]+sum_poly(d_1, lambda d_t:q[o_2][t+d_t]),1)for t in range(N_t-d_1)])\r\n",
        "\r\n",
        "# 順序付きのオーダー制約　先行オーダーが終わらないうちにオーダーをいれない\r\n",
        "for o in range(N_o):\r\n",
        "  for o_2 in orders[o][\"pre_node_num\"]:\r\n",
        "    for t in range(N_t-orders[o_2][\"time\"]):\r\n",
        "      constraintses += sum([equal_to(q[o_2][t]*sum_poly(t+orders[o_2][\"time\"], lambda dt: q[o][dt]),0)])\r\n",
        "# 制約の重み（ハイパラ）暫定\r\n",
        "constraintses *= 1000\r\n",
        "\r\n",
        "# cost 関数　Sumｔ*Useful 占有を開始した時間の和\r\n",
        "cost = sum_poly(N_o,lambda o: sum_poly(N_t,lambda t: q[o][t] * t))\r\n",
        "model = cost + constraintses"
      ],
      "execution_count": 117,
      "outputs": []
    },
    {
      "cell_type": "code",
      "metadata": {
        "id": "49LhErd_TVN9"
      },
      "source": [
        "# クライアントを設定\r\n",
        "client = FixstarsClient()\r\n",
        "client.token = CLIENT_TOKEN  # ローカル環境で使用する場合は、Amplify AEのアクセストークンを入力してください\r\n",
        "client.parameters.timeout = TIME_OUT  # タイムアウト1秒\r\n",
        "# ソルバーを設定\r\n",
        "solver = Solver(client)\r\n",
        "# 問題を解く\r\n",
        "result = solver.solve(model)\r\n",
        "# result が空の場合、制約条件を満たす解が得られなかったことを示す\r\n",
        "if len(result) == 0:\r\n",
        "  print(\"out\")\r\n",
        "  # raise RuntimeError(\"Given constraint conditions are not satisfied\")"
      ],
      "execution_count": 118,
      "outputs": []
    },
    {
      "cell_type": "code",
      "metadata": {
        "id": "B8GkjooeTVJA",
        "colab": {
          "base_uri": "https://localhost:8080/"
        },
        "outputId": "cd8e496f-ba86-4f74-92d7-4b2f5e49e83b"
      },
      "source": [
        "# 求めた解を元の変数に代入\r\n",
        "values = result[0].values\r\n",
        "print(\"energy :\",result[0].energy)\r\n",
        "solution = np.array(decode_solution(q, values))\r\n",
        "# 各会議がどの会議室に割り当てられるかを読み取る\r\n",
        "assignment = list(zip(*np.where(solution == 1)))"
      ],
      "execution_count": 119,
      "outputs": [
        {
          "output_type": "stream",
          "text": [
            "36.0\n"
          ],
          "name": "stdout"
        }
      ]
    },
    {
      "cell_type": "code",
      "metadata": {
        "colab": {
          "base_uri": "https://localhost:8080/"
        },
        "id": "Mu2d-PhEsZGH",
        "outputId": "5e488d9b-5d16-4f0f-c3cf-cd058905bc11"
      },
      "source": [
        "# for i in assignment:\r\n",
        "#   print(i)"
      ],
      "execution_count": 120,
      "outputs": [
        {
          "output_type": "stream",
          "text": [
            "(0, 1)\n",
            "(1, 0)\n",
            "(2, 5)\n",
            "(3, 0)\n",
            "(4, 5)\n",
            "(5, 10)\n",
            "(6, 15)\n"
          ],
          "name": "stdout"
        }
      ]
    },
    {
      "cell_type": "code",
      "metadata": {
        "colab": {
          "base_uri": "https://localhost:8080/"
        },
        "id": "seIQjt1tsxXW",
        "outputId": "82ec9992-e0a0-4b04-ccb5-a6343866db50"
      },
      "source": [
        "# solution"
      ],
      "execution_count": 121,
      "outputs": [
        {
          "output_type": "execute_result",
          "data": {
            "text/plain": [
              "array([[0, 1, 0, 0, 0, 0, 0, 0, 0, 0, 0, 0, 0, 0, 0, 0, 0, 0, 0, 0, 0, 0,\n",
              "        0, 0, 0, 0, 0, 0, 0, 0, 0, 0],\n",
              "       [1, 0, 0, 0, 0, 0, 0, 0, 0, 0, 0, 0, 0, 0, 0, 0, 0, 0, 0, 0, 0, 0,\n",
              "        0, 0, 0, 0, 0, 0, 0, 0, 0, 0],\n",
              "       [0, 0, 0, 0, 0, 1, 0, 0, 0, 0, 0, 0, 0, 0, 0, 0, 0, 0, 0, 0, 0, 0,\n",
              "        0, 0, 0, 0, 0, 0, 0, 0, 0, 0],\n",
              "       [1, 0, 0, 0, 0, 0, 0, 0, 0, 0, 0, 0, 0, 0, 0, 0, 0, 0, 0, 0, 0, 0,\n",
              "        0, 0, 0, 0, 0, 0, 0, 0, 0, 0],\n",
              "       [0, 0, 0, 0, 0, 1, 0, 0, 0, 0, 0, 0, 0, 0, 0, 0, 0, 0, 0, 0, 0, 0,\n",
              "        0, 0, 0, 0, 0, 0, 0, 0, 0, 0],\n",
              "       [0, 0, 0, 0, 0, 0, 0, 0, 0, 0, 1, 0, 0, 0, 0, 0, 0, 0, 0, 0, 0, 0,\n",
              "        0, 0, 0, 0, 0, 0, 0, 0, 0, 0],\n",
              "       [0, 0, 0, 0, 0, 0, 0, 0, 0, 0, 0, 0, 0, 0, 0, 1, 0, 0, 0, 0, 0, 0,\n",
              "        0, 0, 0, 0, 0, 0, 0, 0, 0, 0]], dtype=object)"
            ]
          },
          "metadata": {
            "tags": []
          },
          "execution_count": 121
        }
      ]
    },
    {
      "cell_type": "code",
      "metadata": {
        "id": "rZ_AXDvwTllr"
      },
      "source": [
        "# \r\n",
        "# オーダー割り当てを可視化\r\n",
        "#\r\n",
        "%matplotlib inline\r\n",
        "def plot_order_schedule(num_machine, assignment,N_order_num):\r\n",
        "    import matplotlib.pyplot as plt\r\n",
        "\r\n",
        "    machine_names = ['Machine ' + chr(65 + i) for i in range(num_machine)]\r\n",
        "\r\n",
        "    cmap = plt.get_cmap(\"coolwarm\", N_order_num)\r\n",
        "    colors = [cmap(i) for i in range(N_order_num)]\r\n",
        "\r\n",
        "    fig, ax1 = plt.subplots(nrows=1, ncols=1, figsize=(15,10))\r\n",
        "    max_y = 0\r\n",
        "    for n_order,  o_time in assignment:\r\n",
        "        max_y = max(max_y,o_time+orders[n_order][\"time\"])\r\n",
        "        plt.fill_between([orders[n_order][\"machine\"] + 0.55, orders[n_order][\"machine\"] + 1.45], [o_time, o_time], [o_time+orders[n_order][\"time\"], o_time+orders[n_order][\"time\"]], \r\n",
        "                        edgecolor='black', \r\n",
        "                        linewidth=3.0,\r\n",
        "                        facecolor=colors[orders[n_order][\"order_num\"]] \r\n",
        "                        )\r\n",
        "        plt.text(orders[n_order][\"machine\"] + 1.0, o_time + orders[n_order][\"time\"]/2, orders[n_order][\"name\"], ha='center', va='center', fontsize=15)\r\n",
        "        \r\n",
        "    # Set First Axis\r\n",
        "    ax1.yaxis.grid()\r\n",
        "    ax1.set_xlim(0.5, len(machine_names) + 0.5)\r\n",
        "    ax1.set_ylim(0,max_y)\r\n",
        "    ax1.set_xticks(range(1, len(machine_names) + 1))\r\n",
        "    ax1.set_xticklabels(machine_names)\r\n",
        "    ax1.set_ylabel('Time')\r\n",
        "\r\n",
        "    # Set Second Axis\r\n",
        "    ax2 = ax1.twiny().twinx()\r\n",
        "    ax2.set_xlim(ax1.get_xlim())\r\n",
        "    ax2.set_ylim(ax1.get_ylim())\r\n",
        "    ax2.set_xticks(ax1.get_xticks())\r\n",
        "    ax2.set_xticklabels(machine_names)\r\n",
        "    ax2.set_ylabel('Time')\r\n",
        "\r\n",
        "    plt.show()"
      ],
      "execution_count": 125,
      "outputs": []
    },
    {
      "cell_type": "code",
      "metadata": {
        "colab": {
          "base_uri": "https://localhost:8080/",
          "height": 546
        },
        "id": "1ijiaI2iR-3l",
        "outputId": "7b22858b-8a53-4862-8b61-7413b37dae38"
      },
      "source": [
        "plot_order_schedule(num_machine=N_m, assignment=assignment,N_order_num=N_order_num)"
      ],
      "execution_count": 126,
      "outputs": [
        {
          "output_type": "display_data",
          "data": {
            "image/png": "[encoded data removed]",
            "text/plain": [
              "<Figure size 1080x720 with 3 Axes>"
            ]
          },
          "metadata": {
            "tags": [],
            "needs_background": "light"
          }
        }
      ]
    },
    {
      "cell_type": "code",
      "metadata": {
        "id": "5DtkeXkzWZlx"
      },
      "source": [
        "# todo test"
      ],
      "execution_count": null,
      "outputs": []
    },
    {
      "cell_type": "code",
      "metadata": {
        "id": "8nRwO3f8WZi6"
      },
      "source": [
        ""
      ],
      "execution_count": null,
      "outputs": []
    },
    {
      "cell_type": "code",
      "metadata": {
        "id": "piW8IFzQMU78"
      },
      "source": [
        ""
      ],
      "execution_count": null,
      "outputs": []
    }
  ]
}